{
 "cells": [
  {
   "cell_type": "code",
   "execution_count": 7,
   "metadata": {},
   "outputs": [
    {
     "name": "stdout",
     "output_type": "stream",
     "text": [
      "5 1 5\n",
      "10 2 5\n",
      "15 2 5\n",
      "20 3 5\n",
      "25 3 5\n",
      "29 4 4\n",
      "33 4 4\n",
      "37 5 4\n",
      "41 5 4\n"
     ]
    }
   ],
   "source": [
    "a = [[1, 1, 0, 1, 0],\n",
    "        [1, 0, 1, 0]]\n",
    "tot, totsu = 0, 0\n",
    "for i in a:\n",
    "    for j in i:\n",
    "        tot += j\n",
    "        totsu = totsu + len(i)\n",
    "        print(totsu, tot, len(i))"
   ]
  },
  {
   "cell_type": "code",
   "execution_count": 2,
   "metadata": {},
   "outputs": [
    {
     "data": {
      "text/plain": [
       "4"
      ]
     },
     "execution_count": 2,
     "metadata": {},
     "output_type": "execute_result"
    }
   ],
   "source": [
    "len(i)"
   ]
  },
  {
   "cell_type": "code",
   "execution_count": 7,
   "metadata": {},
   "outputs": [
    {
     "name": "stdout",
     "output_type": "stream",
     "text": [
      "i=7, hap = 9\n"
     ]
    }
   ],
   "source": [
    "i, hap = 1, 0\n",
    "while i <= 6:\n",
    "    hap += i\n",
    "    i += 2\n",
    "print(f\"i={i}, hap = {hap}\")"
   ]
  },
  {
   "cell_type": "code",
   "execution_count": 10,
   "metadata": {},
   "outputs": [
    {
     "name": "stdout",
     "output_type": "stream",
     "text": [
      "gnoganiS"
     ]
    }
   ],
   "source": [
    "str = 'Sinagong'\n",
    "n = len(str)\n",
    "st = list()\n",
    "for k in range(n):\n",
    "    st.append(str[k])\n",
    "for k in range(n - 1, -1, -1):\n",
    "    print(st[k], end = '')"
   ]
  },
  {
   "cell_type": "code",
   "execution_count": 12,
   "metadata": {},
   "outputs": [
    {
     "name": "stdout",
     "output_type": "stream",
     "text": [
      "10 55\n"
     ]
    }
   ],
   "source": [
    "hap = 0\n",
    "for i in range(1, 11):\n",
    "    hap += i\n",
    "print(i, hap)"
   ]
  },
  {
   "cell_type": "code",
   "execution_count": 16,
   "metadata": {},
   "outputs": [
    {
     "name": "stdout",
     "output_type": "stream",
     "text": [
      "11, 4\n"
     ]
    }
   ],
   "source": [
    "hap1 = 10 + 10 % 4 - 10 % 9\n",
    "hap2 = 10 * 10 % 4 -10 % 9 + 5\n",
    "print(\"%d, %d\" % (hap1, hap2))"
   ]
  },
  {
   "cell_type": "code",
   "execution_count": 19,
   "metadata": {},
   "outputs": [
    {
     "name": "stdout",
     "output_type": "stream",
     "text": [
      "3\n",
      "4\n"
     ]
    }
   ],
   "source": [
    "a, b = 1, 1\n",
    "y = a + b\n",
    "n = int(input())\n",
    "for k in range(3, n + 1):\n",
    "    c = a + b\n",
    "    y = y + c\n",
    "    a = b\n",
    "    b = c\n",
    "print(y)"
   ]
  },
  {
   "cell_type": "code",
   "execution_count": 21,
   "metadata": {},
   "outputs": [
    {
     "name": "stdout",
     "output_type": "stream",
     "text": [
      "What      \n",
      "      What\n"
     ]
    }
   ],
   "source": [
    "a = \"What`s this?\"\n",
    "print(\"%-10.4s\" % a)\n",
    "print(\"%10.4s\" % a)"
   ]
  },
  {
   "cell_type": "code",
   "execution_count": 23,
   "metadata": {},
   "outputs": [
    {
     "ename": "TypeError",
     "evalue": "unsupported operand type(s) for +=: 'builtin_function_or_method' and 'int'",
     "output_type": "error",
     "traceback": [
      "\u001b[1;31m---------------------------------------------------------------------------\u001b[0m",
      "\u001b[1;31mTypeError\u001b[0m                                 Traceback (most recent call last)",
      "\u001b[1;32m<ipython-input-23-853fdd9e7cad>\u001b[0m in \u001b[0;36m<module>\u001b[1;34m\u001b[0m\n\u001b[0;32m      4\u001b[0m     \u001b[1;32mif\u001b[0m \u001b[0ma\u001b[0m\u001b[1;33m%\u001b[0m\u001b[1;36m2\u001b[0m \u001b[1;33m==\u001b[0m \u001b[1;36m1\u001b[0m\u001b[1;33m:\u001b[0m\u001b[1;33m\u001b[0m\u001b[1;33m\u001b[0m\u001b[0m\n\u001b[0;32m      5\u001b[0m         \u001b[1;32mcontinue\u001b[0m\u001b[1;33m\u001b[0m\u001b[1;33m\u001b[0m\u001b[0m\n\u001b[1;32m----> 6\u001b[1;33m     \u001b[0msum\u001b[0m \u001b[1;33m+=\u001b[0m \u001b[0ma\u001b[0m\u001b[1;33m\u001b[0m\u001b[1;33m\u001b[0m\u001b[0m\n\u001b[0m\u001b[0;32m      7\u001b[0m \u001b[0mprint\u001b[0m\u001b[1;33m(\u001b[0m\u001b[0msum\u001b[0m\u001b[1;33m)\u001b[0m\u001b[1;33m\u001b[0m\u001b[1;33m\u001b[0m\u001b[0m\n",
      "\u001b[1;31mTypeError\u001b[0m: unsupported operand type(s) for +=: 'builtin_function_or_method' and 'int'"
     ]
    }
   ],
   "source": [
    "a = sun = 0\n",
    "while a < 10:\n",
    "    a += 1\n",
    "    if a%2 == 1:\n",
    "        continue\n",
    "    sum += a\n",
    "print(sum)"
   ]
  },
  {
   "cell_type": "code",
   "execution_count": 26,
   "metadata": {},
   "outputs": [
    {
     "name": "stdout",
     "output_type": "stream",
     "text": [
      "2\n"
     ]
    }
   ],
   "source": [
    "a, b = 2, 3\n",
    "c = a & b\n",
    "print(c)"
   ]
  },
  {
   "cell_type": "code",
   "execution_count": 28,
   "metadata": {},
   "outputs": [
    {
     "name": "stdout",
     "output_type": "stream",
     "text": [
      "4 128 -12\n"
     ]
    }
   ],
   "source": [
    "a, c = 32, -3\n",
    "b = a << 2\n",
    "a >>= 3\n",
    "c = c << 2\n",
    "print(a, b, c)"
   ]
  },
  {
   "cell_type": "code",
   "execution_count": 32,
   "metadata": {},
   "outputs": [
    {
     "name": "stdout",
     "output_type": "stream",
     "text": [
      "i=20, j=10\n"
     ]
    }
   ],
   "source": [
    "def change():\n",
    "    global i, j\n",
    "    temp = i\n",
    "    i = j\n",
    "    j = temp\n",
    "i, j = 10, 20\n",
    "change()\n",
    "print(f\"i={i}, j={j}\")"
   ]
  }
 ],
 "metadata": {
  "kernelspec": {
   "display_name": "Python 3",
   "language": "python",
   "name": "python3"
  },
  "language_info": {
   "codemirror_mode": {
    "name": "ipython",
    "version": 3
   },
   "file_extension": ".py",
   "mimetype": "text/x-python",
   "name": "python",
   "nbconvert_exporter": "python",
   "pygments_lexer": "ipython3",
   "version": "3.7.4"
  }
 },
 "nbformat": 4,
 "nbformat_minor": 2
}
